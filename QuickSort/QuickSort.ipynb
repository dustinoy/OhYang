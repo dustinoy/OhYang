{
 "cells": [
  {
   "cell_type": "code",
   "execution_count": 1,
   "metadata": {},
   "outputs": [],
   "source": [
    "list=[5,7,3,8,27,9,6,100,1,55]"
   ]
  },
  {
   "cell_type": "code",
   "execution_count": 2,
   "metadata": {},
   "outputs": [],
   "source": [
    "def QS(list): #定義Quicksort\n",
    "\tleft=[] #建立三個list\n",
    "\tmid=[]\n",
    "\tright=[]\n",
    "\tif len(list)<=1: #假如list長度小於等於1就可以直接回傳\n",
    "\t\treturn list\n",
    "\telse:\n",
    "\t\tk=list[1] #取list第2個數字當基準值\n",
    "\t\tfor i in list:\n",
    "\t\t\tif i <k: #假如變數i小於基準值則放到左邊的list\n",
    "\t\t\t\tleft.append(i)\n",
    "\t\t\telif i >k: #大於基準值則放到右邊的list\n",
    "\t\t\t\tright.append(i)\n",
    "\t\t\telse: #其餘等於基準值的則都集合在同一個list\n",
    "\t\t\t\tmid.append(i)\n",
    "\tleft = QS(left) #再把左右的list Quicksort直到不能再跑\n",
    "\tright = QS(right)\n",
    "\treturn left+mid+right #最後總結三個部分list就整理好了"
   ]
  },
  {
   "cell_type": "code",
   "execution_count": 3,
   "metadata": {},
   "outputs": [
    {
     "data": {
      "text/plain": [
       "[1, 3, 5, 6, 7, 8, 9, 27, 55, 100]"
      ]
     },
     "execution_count": 3,
     "metadata": {},
     "output_type": "execute_result"
    }
   ],
   "source": [
    "QS(list)"
   ]
  },
  {
   "cell_type": "code",
   "execution_count": null,
   "metadata": {},
   "outputs": [],
   "source": []
  }
 ],
 "metadata": {
  "kernelspec": {
   "display_name": "Python 3",
   "language": "python",
   "name": "python3"
  },
  "language_info": {
   "codemirror_mode": {
    "name": "ipython",
    "version": 3
   },
   "file_extension": ".py",
   "mimetype": "text/x-python",
   "name": "python",
   "nbconvert_exporter": "python",
   "pygments_lexer": "ipython3",
   "version": "3.7.3"
  }
 },
 "nbformat": 4,
 "nbformat_minor": 2
}
